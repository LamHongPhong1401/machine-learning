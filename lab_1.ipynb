{
  "nbformat": 4,
  "nbformat_minor": 0,
  "metadata": {
    "colab": {
      "provenance": [],
      "authorship_tag": "ABX9TyOhd48YtqjRVxEv0LxjV17E",
      "include_colab_link": true
    },
    "kernelspec": {
      "name": "python3",
      "display_name": "Python 3"
    },
    "language_info": {
      "name": "python"
    }
  },
  "cells": [
    {
      "cell_type": "markdown",
      "metadata": {
        "id": "view-in-github",
        "colab_type": "text"
      },
      "source": [
        "<a href=\"https://colab.research.google.com/github/LamHongPhong1401/machine-learning/blob/master/lab_1.ipynb\" target=\"_parent\"><img src=\"https://colab.research.google.com/assets/colab-badge.svg\" alt=\"Open In Colab\"/></a>"
      ]
    },
    {
      "cell_type": "code",
      "execution_count": null,
      "metadata": {
        "id": "uhJv04rrBD69",
        "colab": {
          "base_uri": "https://localhost:8080/"
        },
        "outputId": "31e418bc-ebb8-435e-c584-46b10da84dce"
      },
      "outputs": [
        {
          "output_type": "stream",
          "name": "stdout",
          "text": [
            "min value: 9\n",
            "min value: -6\n",
            "sum all value: 9\n",
            "sort asc value: [-6, 1, 2, 3, 9]\n",
            "number of positive:  4\n"
          ]
        }
      ],
      "source": [
        "l = [1, 3, 2, 9, -6]\n",
        "\n",
        "\n",
        "def addN(n):\n",
        "  return l.append(n)\n",
        "\n",
        "maxValue = max(l)\n",
        "\n",
        "minValue = min(l)\n",
        "\n",
        "sumElement = sum(l)\n",
        "\n",
        "sortListAsc = sorted(l)\n",
        "\n",
        "def numPositive(lst):\n",
        "  count = 0\n",
        "  for i in lst:\n",
        "    if i >= 0:\n",
        "      count += 1\n",
        "  return count\n",
        "\n",
        "def numNagetive(lst):\n",
        "  count = 0\n",
        "  for i in lst:\n",
        "    if i < 0:\n",
        "      count += 1\n",
        "  return count\n",
        "\n",
        "print(\"min value:\",maxValue)\n",
        "print(\"min value:\",minValue)\n",
        "print(\"sum all value:\",sumElement)\n",
        "print(\"sort asc value:\",sortListAsc)\n",
        "print(\"number of nagative: \", numNagetive(l))\n"
      ]
    }
  ]
}