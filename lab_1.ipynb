{
  "nbformat": 4,
  "nbformat_minor": 0,
  "metadata": {
    "colab": {
      "provenance": [],
      "authorship_tag": "ABX9TyPV2omNFePyK2gZ0NK2s1FJ",
      "include_colab_link": true
    },
    "kernelspec": {
      "name": "python3",
      "display_name": "Python 3"
    },
    "language_info": {
      "name": "python"
    }
  },
  "cells": [
    {
      "cell_type": "markdown",
      "metadata": {
        "id": "view-in-github",
        "colab_type": "text"
      },
      "source": [
        "<a href=\"https://colab.research.google.com/github/LamHongPhong1401/machine-learning/blob/master/lab_1.ipynb\" target=\"_parent\"><img src=\"https://colab.research.google.com/assets/colab-badge.svg\" alt=\"Open In Colab\"/></a>"
      ]
    },
    {
      "cell_type": "code",
      "execution_count": null,
      "metadata": {
        "id": "uhJv04rrBD69",
        "colab": {
          "base_uri": "https://localhost:8080/"
        },
        "outputId": "d34cdc5c-b295-453c-9b84-67474eec03fd"
      },
      "outputs": [
        {
          "output_type": "stream",
          "name": "stdout",
          "text": [
            "min value: 9\n",
            "min value: -6\n",
            "sum all value: 9\n",
            "sort asc value: [-6, 1, 2, 3, 9]\n",
            "number of position:  4\n",
            "number of nagative:  1\n"
          ]
        }
      ],
      "source": [
        "#Task 1.1\n",
        "l = [1, 3, 2, 9, -6]\n",
        "\n",
        "def addN(n):\n",
        "  return l.append(n)\n",
        "\n",
        "maxValue = max(l)\n",
        "\n",
        "minValue = min(l)\n",
        "\n",
        "sumElement = sum(l)\n",
        "\n",
        "sortListAsc = sorted(l)\n",
        "\n",
        "def numPositive(lst):\n",
        "  count = 0\n",
        "  for i in lst:\n",
        "    if i >= 0:\n",
        "      count += 1\n",
        "  return count\n",
        "\n",
        "def numNagetive(lst):\n",
        "  count = 0\n",
        "  for i in lst:\n",
        "    if i < 0:\n",
        "      count += 1\n",
        "  return count\n",
        "\n",
        "print(\"min value:\",maxValue)\n",
        "print(\"min value:\",minValue)\n",
        "print(\"sum all value:\",sumElement)\n",
        "print(\"sort asc value:\",sortListAsc)\n",
        "print(\"number of position: \", numPositive(l))\n",
        "print(\"number of nagative: \", numNagetive(l))\n"
      ]
    },
    {
      "cell_type": "code",
      "source": [
        "#Task 1.2\n",
        "def computeS(n):\n",
        "  if(n == 1):\n",
        "    return 1\n",
        "  return n*computeS(n-1)\n",
        "\n",
        "print(computeS(4))"
      ],
      "metadata": {
        "colab": {
          "base_uri": "https://localhost:8080/"
        },
        "id": "KJuJQk0D4edb",
        "outputId": "3d934430-40e0-4710-b19b-81ae3b2265d8"
      },
      "execution_count": null,
      "outputs": [
        {
          "output_type": "stream",
          "name": "stdout",
          "text": [
            "24\n"
          ]
        }
      ]
    },
    {
      "cell_type": "code",
      "source": [
        "#Task 1.3\n",
        "class Post:\n",
        "  #constructor\n",
        "  def __init__(sefl, content, subject, likes):\n",
        "    sefl.__content = content\n",
        "    sefl.__subject = subject\n",
        "    sefl.__likes = likes\n",
        "\n",
        "  def getContent(sefl):\n",
        "    return sefl.__content\n",
        "\n",
        "  def getSubject(sefl):\n",
        "    return sefl.__subject\n",
        "\n",
        "  def getLikes(sefl):\n",
        "    return sefl.__likes\n",
        "\n",
        "\n",
        "  def __repr__(sefl):\n",
        "    return \"[\" + str(sefl.__content) + \", \" + str(sefl.__subject) + \", \" + str(sefl.__likes) + \"]\"\n",
        "\n",
        "\n",
        "\n",
        "class Account:\n",
        "  #constructor\n",
        "  def __init__(sefl, name, email, country, friends, posts):\n",
        "    sefl.__name = name\n",
        "    sefl.__email = email\n",
        "    sefl.__country = country\n",
        "    sefl.__friends = friends\n",
        "    sefl.__posts = posts\n",
        "\n",
        "  def getName(sefl):\n",
        "    return sefl.__name\n",
        "\n",
        "  def getEmail(sefl):\n",
        "    return sefl.__email\n",
        "\n",
        "  def getCountry(sefl):\n",
        "    return sefl.__country\n",
        "\n",
        "  def getFriends(sefl):\n",
        "    return sefl.__friends\n",
        "\n",
        "  def setFriends(sefl, friends):\n",
        "    return sefl.__friends.extend(friends)\n",
        "\n",
        "  def getPosts(sefl):\n",
        "    return sefl.__posts\n",
        "\n",
        "  def __repr__(sefl):\n",
        "    return \"[\" + str(sefl.__name) + \"\\n \" + str(sefl.__email) + \"]\"\n",
        "\n",
        "  def getMaxLike(sefl, account):\n",
        "    maxLike = account.getPosts()[0].getLikes()\n",
        "    for post in account.getPosts()[1 : len(sefl.__posts)]:\n",
        "      if(maxLike < post.getLikes()):\n",
        "        maxLike =   post.getLikes()\n",
        "    return maxLike\n",
        "\n",
        "  def getMaxLikePostByFriend(sefl):\n",
        "    maxLikeOfAcc = sefl.getFriends()[0]\n",
        "    for acc in sefl.__friends[1 : len(sefl.__friends)]:\n",
        "      if(sefl.getMaxLike(acc) > sefl.getMaxLike(maxLikeOfAcc)):\n",
        "        maxLikeOfAcc = acc\n",
        "    return maxLikeOfAcc\n",
        "\n",
        "\n",
        "\n",
        "class AccountManager:\n",
        "  def __init__(sefl, accounts):\n",
        "    sefl.__accounts = accounts\n",
        "\n",
        "  def getAccounts(sefl):\n",
        "    return sefl.__accounts\n",
        "\n",
        "  def __repr__(sefl):\n",
        "    return \"[\" + str(sefl.__accounts) + \"]\"\n",
        "\n",
        "  def gourpListAccountByPost(sefl):\n",
        "    result = {}\n",
        "    for acc in sefl.getAccounts()[0 : len(sefl.__accounts)]:\n",
        "      if(len(acc.getPosts()) > 10):\n",
        "        result.update({acc : True})\n",
        "      else:\n",
        "          result.update({acc : False})\n",
        "    return result\n",
        "\n",
        "  def filterAccounts(sefl, country):\n",
        "    accSamecountry = set()\n",
        "    for acc in sefl.getAccounts()[0 : len(sefl.getAccounts())]:\n",
        "      if(acc.getCountry == country):\n",
        "        accSamecountry.add(acc)\n",
        "    sorted(accSamecountry, key = next(iter(accSamecountry)), reverse=False)\n",
        "    return accSamecountry\n",
        "\n",
        "\n",
        "# Khởi tạo 10 đối tượng của lớp Post\n",
        "post1 = Post(\"Content 1\", \"Subject 1\", 10)\n",
        "post2 = Post(\"Content 2\", \"Subject 2\", 20)\n",
        "post3 = Post(\"Content 3\", \"Subject 3\", 30)\n",
        "post4 = Post(\"Content 4\", \"Subject 4\", 40)\n",
        "post5 = Post(\"Content 5\", \"Subject 5\", 50)\n",
        "post6 = Post(\"Content 6\", \"Subject 6\", 60)\n",
        "post7 = Post(\"Content 7\", \"Subject 7\", 70)\n",
        "post8 = Post(\"Content 8\", \"Subject 8\", 80)\n",
        "post9 = Post(\"Content 9\", \"Subject 9\", 90)\n",
        "post10 = Post(\"Content 10\", \"Subject 10\", 100)\n",
        "\n",
        "lstPost1 = [post1, post3, post5, post7]\n",
        "lstPost2 = [post2, post4, post6, post8]\n",
        "lstPost3 = [post5, post2, post3, post10]\n",
        "lstPost4 = [post1, post3, post5, post7]\n",
        "lstPost5 = [post1, post2, post5, post9]\n",
        "lstPost6 = [post8, post7, post3, post10]\n",
        "\n",
        "lstPost7 = lstPost1\n",
        "lstPost7.extend(lstPost4)\n",
        "lstPost7.extend(lstPost2)\n",
        "lstPost8 = lstPost2\n",
        "lstPost8.extend(lstPost3)\n",
        "\n",
        "\n",
        "lstAcc1 = []\n",
        "lstAcc2 = []\n",
        "lstAcc3 = []\n",
        "lstAcc4 = []\n",
        "lstAcc5 = []\n",
        "# Khởi tạo 5 đối tượng của lớp Account\n",
        "account1 = Account(\"Alice\", \"alice@example.com\", \"USA\", lstAcc1, lstPost1)\n",
        "account2 = Account(\"Bob\", \"bob@example.com\", \"UK\",lstAcc2, lstPost2)\n",
        "account3 = Account(\"Charlie\", \"charlie@example.com\", \"Canada\",lstAcc3, lstPost3)\n",
        "account4 = Account(\"David\", \"david@example.com\", \"Australia\", lstAcc4,lstPost4)\n",
        "account5 = Account(\"Eve\", \"eve@example.com\", \"France\", lstAcc5, lstPost5)\n",
        "account6 = Account(\"DavidHeehe\", \"david@example.com\", \"Australia\", lstAcc4,lstPost7)\n",
        "account7 = Account(\"Evehahah\", \"eve@example.com\", \"France\", lstAcc5, lstPost8)\n",
        "\n",
        "lstAcc1 = [account5, account3]\n",
        "lstAcc2 = [account2, account3]\n",
        "lstAcc3 = [account2, account4, account3]\n",
        "lstAcc4 = [account1, account5]\n",
        "lstAcc5 = [account2, account4, account7, account6]\n",
        "\n",
        "account1.setFriends(lstAcc1)\n",
        "account2.setFriends(lstAcc2)\n",
        "account3.setFriends(lstAcc3)\n",
        "account4.setFriends(lstAcc4)\n",
        "account5.setFriends(lstAcc5)\n",
        "\n",
        "accountManager1 = AccountManager(lstAcc5)\n",
        "\n",
        "#print(account3.getMaxLikePostByFriend()) : complete\n",
        "print(accountManager1.gourpListAccountByPost())\n"
      ],
      "metadata": {
        "id": "P2KSjGOC8E7e",
        "colab": {
          "base_uri": "https://localhost:8080/"
        },
        "outputId": "66f20ab6-2ffc-463c-8e87-25d2e87000ff"
      },
      "execution_count": null,
      "outputs": [
        {
          "output_type": "stream",
          "name": "stdout",
          "text": [
            "{[Bob\n",
            " bob@example.com]: False, [David\n",
            " david@example.com]: False, [Evehahah\n",
            " eve@example.com]: False, [DavidHeehe\n",
            " david@example.com]: True}\n"
          ]
        }
      ]
    }
  ]
}