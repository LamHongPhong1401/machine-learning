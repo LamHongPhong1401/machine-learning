{
  "nbformat": 4,
  "nbformat_minor": 0,
  "metadata": {
    "colab": {
      "provenance": [],
      "authorship_tag": "ABX9TyNDdsC4MYyMj7vhi73KPtFX",
      "include_colab_link": true
    },
    "kernelspec": {
      "name": "python3",
      "display_name": "Python 3"
    },
    "language_info": {
      "name": "python"
    }
  },
  "cells": [
    {
      "cell_type": "markdown",
      "metadata": {
        "id": "view-in-github",
        "colab_type": "text"
      },
      "source": [
        "<a href=\"https://colab.research.google.com/github/LamHongPhong1401/machine-learning/blob/master/lab_1.ipynb\" target=\"_parent\"><img src=\"https://colab.research.google.com/assets/colab-badge.svg\" alt=\"Open In Colab\"/></a>"
      ]
    },
    {
      "cell_type": "code",
      "execution_count": 6,
      "metadata": {
        "id": "uhJv04rrBD69",
        "colab": {
          "base_uri": "https://localhost:8080/"
        },
        "outputId": "d34cdc5c-b295-453c-9b84-67474eec03fd"
      },
      "outputs": [
        {
          "output_type": "stream",
          "name": "stdout",
          "text": [
            "min value: 9\n",
            "min value: -6\n",
            "sum all value: 9\n",
            "sort asc value: [-6, 1, 2, 3, 9]\n",
            "number of position:  4\n",
            "number of nagative:  1\n"
          ]
        }
      ],
      "source": [
        "#Task 1.1\n",
        "l = [1, 3, 2, 9, -6]\n",
        "\n",
        "def addN(n):\n",
        "  return l.append(n)\n",
        "\n",
        "maxValue = max(l)\n",
        "\n",
        "minValue = min(l)\n",
        "\n",
        "sumElement = sum(l)\n",
        "\n",
        "sortListAsc = sorted(l)\n",
        "\n",
        "def numPositive(lst):\n",
        "  count = 0\n",
        "  for i in lst:\n",
        "    if i >= 0:\n",
        "      count += 1\n",
        "  return count\n",
        "\n",
        "def numNagetive(lst):\n",
        "  count = 0\n",
        "  for i in lst:\n",
        "    if i < 0:\n",
        "      count += 1\n",
        "  return count\n",
        "\n",
        "print(\"min value:\",maxValue)\n",
        "print(\"min value:\",minValue)\n",
        "print(\"sum all value:\",sumElement)\n",
        "print(\"sort asc value:\",sortListAsc)\n",
        "print(\"number of position: \", numPositive(l))\n",
        "print(\"number of nagative: \", numNagetive(l))\n"
      ]
    },
    {
      "cell_type": "code",
      "source": [
        "#Task 1.2\n",
        "def computeS(n):\n",
        "  if(n == 1):\n",
        "    return 1\n",
        "  return n*computeS(n-1)\n",
        "\n",
        "print(computeS(4))"
      ],
      "metadata": {
        "colab": {
          "base_uri": "https://localhost:8080/"
        },
        "id": "KJuJQk0D4edb",
        "outputId": "3d934430-40e0-4710-b19b-81ae3b2265d8"
      },
      "execution_count": 12,
      "outputs": [
        {
          "output_type": "stream",
          "name": "stdout",
          "text": [
            "24\n"
          ]
        }
      ]
    }
  ]
}